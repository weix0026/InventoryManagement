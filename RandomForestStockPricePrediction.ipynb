{
  "cells": [
    {
      "cell_type": "markdown",
      "metadata": {
        "id": "view-in-github",
        "colab_type": "text"
      },
      "source": [
        "<a href=\"https://colab.research.google.com/github/weix0026/InventoryManagement/blob/main/RandomForestStockPricePrediction.ipynb\" target=\"_parent\"><img src=\"https://colab.research.google.com/assets/colab-badge.svg\" alt=\"Open In Colab\"/></a>"
      ]
    },
    {
      "cell_type": "code",
      "execution_count": 1,
      "metadata": {
        "colab": {
          "base_uri": "https://localhost:8080/"
        },
        "id": "Jw5WHBtoBUrG",
        "outputId": "045d7eea-3722-4201-e863-c4e20f8f41fe",
        "scrolled": true
      },
      "outputs": [
        {
          "output_type": "stream",
          "name": "stdout",
          "text": [
            "Looking in indexes: https://pypi.org/simple, https://us-python.pkg.dev/colab-wheels/public/simple/\n",
            "Collecting yfinance\n",
            "  Downloading yfinance-0.1.74-py2.py3-none-any.whl (27 kB)\n",
            "Collecting lxml>=4.5.1\n",
            "  Downloading lxml-4.9.1-cp37-cp37m-manylinux_2_17_x86_64.manylinux2014_x86_64.manylinux_2_24_x86_64.whl (6.4 MB)\n",
            "\u001b[K     |████████████████████████████████| 6.4 MB 5.6 MB/s \n",
            "\u001b[?25hRequirement already satisfied: pandas>=0.24.0 in /usr/local/lib/python3.7/dist-packages (from yfinance) (1.3.5)\n",
            "Requirement already satisfied: multitasking>=0.0.7 in /usr/local/lib/python3.7/dist-packages (from yfinance) (0.0.11)\n",
            "Requirement already satisfied: numpy>=1.15 in /usr/local/lib/python3.7/dist-packages (from yfinance) (1.21.6)\n",
            "Collecting requests>=2.26\n",
            "  Downloading requests-2.28.1-py3-none-any.whl (62 kB)\n",
            "\u001b[K     |████████████████████████████████| 62 kB 1.6 MB/s \n",
            "\u001b[?25hRequirement already satisfied: python-dateutil>=2.7.3 in /usr/local/lib/python3.7/dist-packages (from pandas>=0.24.0->yfinance) (2.8.2)\n",
            "Requirement already satisfied: pytz>=2017.3 in /usr/local/lib/python3.7/dist-packages (from pandas>=0.24.0->yfinance) (2022.1)\n",
            "Requirement already satisfied: six>=1.5 in /usr/local/lib/python3.7/dist-packages (from python-dateutil>=2.7.3->pandas>=0.24.0->yfinance) (1.15.0)\n",
            "Requirement already satisfied: urllib3<1.27,>=1.21.1 in /usr/local/lib/python3.7/dist-packages (from requests>=2.26->yfinance) (1.24.3)\n",
            "Requirement already satisfied: idna<4,>=2.5 in /usr/local/lib/python3.7/dist-packages (from requests>=2.26->yfinance) (2.10)\n",
            "Requirement already satisfied: charset-normalizer<3,>=2 in /usr/local/lib/python3.7/dist-packages (from requests>=2.26->yfinance) (2.1.0)\n",
            "Requirement already satisfied: certifi>=2017.4.17 in /usr/local/lib/python3.7/dist-packages (from requests>=2.26->yfinance) (2022.6.15)\n",
            "Installing collected packages: requests, lxml, yfinance\n",
            "  Attempting uninstall: requests\n",
            "    Found existing installation: requests 2.23.0\n",
            "    Uninstalling requests-2.23.0:\n",
            "      Successfully uninstalled requests-2.23.0\n",
            "  Attempting uninstall: lxml\n",
            "    Found existing installation: lxml 4.2.6\n",
            "    Uninstalling lxml-4.2.6:\n",
            "      Successfully uninstalled lxml-4.2.6\n",
            "\u001b[31mERROR: pip's dependency resolver does not currently take into account all the packages that are installed. This behaviour is the source of the following dependency conflicts.\n",
            "google-colab 1.0.0 requires requests~=2.23.0, but you have requests 2.28.1 which is incompatible.\n",
            "datascience 0.10.6 requires folium==0.2.1, but you have folium 0.8.3 which is incompatible.\u001b[0m\n",
            "Successfully installed lxml-4.9.1 requests-2.28.1 yfinance-0.1.74\n"
          ]
        }
      ],
      "source": [
        "#!pip install yfinance\n",
        "!pip install --upgrade yfinance"
      ]
    },
    {
      "cell_type": "code",
      "execution_count": 2,
      "metadata": {
        "colab": {
          "base_uri": "https://localhost:8080/"
        },
        "id": "Otw9EBBzVq3d",
        "outputId": "494ea625-4295-46a4-f4b3-0faf7a3f6db5",
        "scrolled": false
      },
      "outputs": [
        {
          "output_type": "stream",
          "name": "stdout",
          "text": [
            "Empty DataFrame\n",
            "Columns: [Indicator, Release Date, Time, Period Covered, A202201031000, A202111]\n",
            "Index: []\n",
            "[*********************100%***********************]  31 of 31 completed\n",
            "[*********************100%***********************]  31 of 31 completed\n",
            "Candidate tickers could be dropped from the predictors,  ['DIA', '^VIX', 'MSFT', 'GOOGL', 'AAPL', 'AMZN', 'TSLA', 'ARKK', 'PYPL', 'FDX', 'CAT', 'F', 'VCR', 'DBC', 'XLE', 'GLD', 'CNYA', 'BABA', 'SOXX', 'NVDA', 'AMD', 'INTC', 'LUV', 'XLF', 'TLT', 'LMT', '^TNX', '^TYX', '^FVX']\n",
            "Tickers would be dropped from the predictors in this run,  []\n"
          ]
        },
        {
          "output_type": "stream",
          "name": "stderr",
          "text": [
            "/usr/local/lib/python3.7/dist-packages/ipykernel_launcher.py:111: SettingWithCopyWarning: \n",
            "A value is trying to be set on a copy of a slice from a DataFrame\n",
            "\n",
            "See the caveats in the documentation: https://pandas.pydata.org/pandas-docs/stable/user_guide/indexing.html#returning-a-view-versus-a-copy\n",
            "/usr/local/lib/python3.7/dist-packages/ipykernel_launcher.py:112: SettingWithCopyWarning: \n",
            "A value is trying to be set on a copy of a slice from a DataFrame\n",
            "\n",
            "See the caveats in the documentation: https://pandas.pydata.org/pandas-docs/stable/user_guide/indexing.html#returning-a-view-versus-a-copy\n"
          ]
        },
        {
          "output_type": "stream",
          "name": "stdout",
          "text": [
            "Predict *********  SPY********\n",
            "ACCURACY OF THE MODEL based on training data is:  0.788135593220339\n",
            "[*********************100%***********************]  31 of 31 completed\n",
            "[*********************100%***********************]  31 of 31 completed\n",
            "Predict *********  SPY**** result **** =  ['no']\n",
            "Predict *********  SPY**** result **** =  [[0.57443528 0.42556472]]\n",
            "Candidate tickers could be dropped from the predictors,  ['DIA', '^VIX', 'MSFT', 'GOOGL', 'AAPL', 'AMZN', 'TSLA', 'ARKK', 'PYPL', 'FDX', 'CAT', 'F', 'VCR', 'DBC', 'XLE', 'GLD', 'CNYA', 'BABA', 'SOXX', 'NVDA', 'AMD', 'INTC', 'LUV', 'XLF', 'TLT', 'LMT', '^TNX', '^TYX', '^FVX']\n",
            "Tickers would be dropped from the predictors in this run,  []\n"
          ]
        },
        {
          "output_type": "stream",
          "name": "stderr",
          "text": [
            "/usr/local/lib/python3.7/dist-packages/ipykernel_launcher.py:111: SettingWithCopyWarning: \n",
            "A value is trying to be set on a copy of a slice from a DataFrame\n",
            "\n",
            "See the caveats in the documentation: https://pandas.pydata.org/pandas-docs/stable/user_guide/indexing.html#returning-a-view-versus-a-copy\n",
            "/usr/local/lib/python3.7/dist-packages/ipykernel_launcher.py:112: SettingWithCopyWarning: \n",
            "A value is trying to be set on a copy of a slice from a DataFrame\n",
            "\n",
            "See the caveats in the documentation: https://pandas.pydata.org/pandas-docs/stable/user_guide/indexing.html#returning-a-view-versus-a-copy\n"
          ]
        },
        {
          "output_type": "stream",
          "name": "stdout",
          "text": [
            "Predict *********  QQQ********\n",
            "ACCURACY OF THE MODEL based on training data is:  0.7966101694915254\n",
            "[*********************100%***********************]  31 of 31 completed\n",
            "[*********************100%***********************]  31 of 31 completed\n",
            "Predict *********  QQQ**** result **** =  ['yes']\n",
            "Predict *********  QQQ**** result **** =  [[0.47785553 0.52214447]]\n",
            "Candidate tickers could be dropped from the predictors,  ['^VIX', 'MSFT', 'GOOGL', 'AAPL', 'AMZN', 'TSLA', 'ARKK', 'PYPL', 'FDX', 'CAT', 'F', 'VCR', 'DBC', 'XLE', 'GLD', 'CNYA', 'BABA', 'SOXX', 'NVDA', 'AMD', 'INTC', 'LUV', 'XLF', 'TLT', 'LMT', '^TNX', '^TYX', '^FVX']\n",
            "Tickers would be dropped from the predictors in this run,  []\n"
          ]
        },
        {
          "output_type": "stream",
          "name": "stderr",
          "text": [
            "/usr/local/lib/python3.7/dist-packages/ipykernel_launcher.py:111: SettingWithCopyWarning: \n",
            "A value is trying to be set on a copy of a slice from a DataFrame\n",
            "\n",
            "See the caveats in the documentation: https://pandas.pydata.org/pandas-docs/stable/user_guide/indexing.html#returning-a-view-versus-a-copy\n",
            "/usr/local/lib/python3.7/dist-packages/ipykernel_launcher.py:112: SettingWithCopyWarning: \n",
            "A value is trying to be set on a copy of a slice from a DataFrame\n",
            "\n",
            "See the caveats in the documentation: https://pandas.pydata.org/pandas-docs/stable/user_guide/indexing.html#returning-a-view-versus-a-copy\n"
          ]
        },
        {
          "output_type": "stream",
          "name": "stdout",
          "text": [
            "Predict *********  DIA********\n",
            "ACCURACY OF THE MODEL based on training data is:  0.7796610169491526\n",
            "[*********************100%***********************]  31 of 31 completed\n",
            "[*********************100%***********************]  31 of 31 completed\n",
            "Predict *********  DIA**** result **** =  ['no']\n",
            "Predict *********  DIA**** result **** =  [[0.60695483 0.39304517]]\n",
            "Candidate tickers could be dropped from the predictors,  ['DIA', '^VIX', 'GOOGL', 'AAPL', 'AMZN', 'TSLA', 'ARKK', 'PYPL', 'FDX', 'CAT', 'F', 'VCR', 'DBC', 'XLE', 'GLD', 'CNYA', 'BABA', 'SOXX', 'NVDA', 'AMD', 'INTC', 'LUV', 'XLF', 'TLT', 'LMT', '^TNX', '^TYX', '^FVX']\n",
            "Tickers would be dropped from the predictors in this run,  []\n"
          ]
        },
        {
          "output_type": "stream",
          "name": "stderr",
          "text": [
            "/usr/local/lib/python3.7/dist-packages/ipykernel_launcher.py:111: SettingWithCopyWarning: \n",
            "A value is trying to be set on a copy of a slice from a DataFrame\n",
            "\n",
            "See the caveats in the documentation: https://pandas.pydata.org/pandas-docs/stable/user_guide/indexing.html#returning-a-view-versus-a-copy\n",
            "/usr/local/lib/python3.7/dist-packages/ipykernel_launcher.py:112: SettingWithCopyWarning: \n",
            "A value is trying to be set on a copy of a slice from a DataFrame\n",
            "\n",
            "See the caveats in the documentation: https://pandas.pydata.org/pandas-docs/stable/user_guide/indexing.html#returning-a-view-versus-a-copy\n"
          ]
        },
        {
          "output_type": "stream",
          "name": "stdout",
          "text": [
            "Predict *********  MSFT********\n",
            "ACCURACY OF THE MODEL based on training data is:  0.788135593220339\n",
            "[*********************100%***********************]  31 of 31 completed\n",
            "[*********************100%***********************]  31 of 31 completed\n",
            "Predict *********  MSFT**** result **** =  ['no']\n",
            "Predict *********  MSFT**** result **** =  [[0.54622777 0.45377223]]\n",
            "Candidate tickers could be dropped from the predictors,  ['DIA', '^VIX', 'MSFT', 'AAPL', 'AMZN', 'TSLA', 'ARKK', 'PYPL', 'FDX', 'CAT', 'F', 'VCR', 'DBC', 'XLE', 'GLD', 'CNYA', 'BABA', 'SOXX', 'NVDA', 'AMD', 'INTC', 'LUV', 'XLF', 'TLT', 'LMT', '^TNX', '^TYX', '^FVX']\n",
            "Tickers would be dropped from the predictors in this run,  []\n"
          ]
        },
        {
          "output_type": "stream",
          "name": "stderr",
          "text": [
            "/usr/local/lib/python3.7/dist-packages/ipykernel_launcher.py:111: SettingWithCopyWarning: \n",
            "A value is trying to be set on a copy of a slice from a DataFrame\n",
            "\n",
            "See the caveats in the documentation: https://pandas.pydata.org/pandas-docs/stable/user_guide/indexing.html#returning-a-view-versus-a-copy\n",
            "/usr/local/lib/python3.7/dist-packages/ipykernel_launcher.py:112: SettingWithCopyWarning: \n",
            "A value is trying to be set on a copy of a slice from a DataFrame\n",
            "\n",
            "See the caveats in the documentation: https://pandas.pydata.org/pandas-docs/stable/user_guide/indexing.html#returning-a-view-versus-a-copy\n"
          ]
        },
        {
          "output_type": "stream",
          "name": "stdout",
          "text": [
            "Predict *********  GOOGL********\n",
            "ACCURACY OF THE MODEL based on training data is:  0.7796610169491526\n",
            "[*********************100%***********************]  31 of 31 completed\n",
            "[*********************100%***********************]  31 of 31 completed\n",
            "Predict *********  GOOGL**** result **** =  ['no']\n",
            "Predict *********  GOOGL**** result **** =  [[0.51520218 0.48479782]]\n",
            "Candidate tickers could be dropped from the predictors,  ['DIA', '^VIX', 'MSFT', 'GOOGL', 'AMZN', 'TSLA', 'ARKK', 'PYPL', 'FDX', 'CAT', 'F', 'VCR', 'DBC', 'XLE', 'GLD', 'CNYA', 'BABA', 'SOXX', 'NVDA', 'AMD', 'INTC', 'LUV', 'XLF', 'TLT', 'LMT', '^TNX', '^TYX', '^FVX']\n",
            "Tickers would be dropped from the predictors in this run,  []\n"
          ]
        },
        {
          "output_type": "stream",
          "name": "stderr",
          "text": [
            "/usr/local/lib/python3.7/dist-packages/ipykernel_launcher.py:111: SettingWithCopyWarning: \n",
            "A value is trying to be set on a copy of a slice from a DataFrame\n",
            "\n",
            "See the caveats in the documentation: https://pandas.pydata.org/pandas-docs/stable/user_guide/indexing.html#returning-a-view-versus-a-copy\n",
            "/usr/local/lib/python3.7/dist-packages/ipykernel_launcher.py:112: SettingWithCopyWarning: \n",
            "A value is trying to be set on a copy of a slice from a DataFrame\n",
            "\n",
            "See the caveats in the documentation: https://pandas.pydata.org/pandas-docs/stable/user_guide/indexing.html#returning-a-view-versus-a-copy\n"
          ]
        },
        {
          "output_type": "stream",
          "name": "stdout",
          "text": [
            "Predict *********  AAPL********\n",
            "ACCURACY OF THE MODEL based on training data is:  0.7796610169491526\n",
            "[*********************100%***********************]  31 of 31 completed\n",
            "[*********************100%***********************]  31 of 31 completed\n",
            "Predict *********  AAPL**** result **** =  ['yes']\n",
            "Predict *********  AAPL**** result **** =  [[0.45894463 0.54105537]]\n",
            "Candidate tickers could be dropped from the predictors,  ['DIA', '^VIX', 'MSFT', 'GOOGL', 'AAPL', 'TSLA', 'ARKK', 'PYPL', 'FDX', 'CAT', 'F', 'VCR', 'DBC', 'XLE', 'GLD', 'CNYA', 'BABA', 'SOXX', 'NVDA', 'AMD', 'INTC', 'LUV', 'XLF', 'TLT', 'LMT', '^TNX', '^TYX', '^FVX']\n",
            "Tickers would be dropped from the predictors in this run,  []\n"
          ]
        },
        {
          "output_type": "stream",
          "name": "stderr",
          "text": [
            "/usr/local/lib/python3.7/dist-packages/ipykernel_launcher.py:111: SettingWithCopyWarning: \n",
            "A value is trying to be set on a copy of a slice from a DataFrame\n",
            "\n",
            "See the caveats in the documentation: https://pandas.pydata.org/pandas-docs/stable/user_guide/indexing.html#returning-a-view-versus-a-copy\n",
            "/usr/local/lib/python3.7/dist-packages/ipykernel_launcher.py:112: SettingWithCopyWarning: \n",
            "A value is trying to be set on a copy of a slice from a DataFrame\n",
            "\n",
            "See the caveats in the documentation: https://pandas.pydata.org/pandas-docs/stable/user_guide/indexing.html#returning-a-view-versus-a-copy\n"
          ]
        },
        {
          "output_type": "stream",
          "name": "stdout",
          "text": [
            "Predict *********  AMZN********\n",
            "ACCURACY OF THE MODEL based on training data is:  0.7966101694915254\n",
            "[*********************100%***********************]  31 of 31 completed\n",
            "[*********************100%***********************]  31 of 31 completed\n",
            "Predict *********  AMZN**** result **** =  ['no']\n",
            "Predict *********  AMZN**** result **** =  [[0.50695432 0.49304568]]\n",
            "Candidate tickers could be dropped from the predictors,  ['DIA', '^VIX', 'MSFT', 'GOOGL', 'AAPL', 'AMZN', 'ARKK', 'PYPL', 'FDX', 'CAT', 'F', 'VCR', 'DBC', 'XLE', 'GLD', 'CNYA', 'BABA', 'SOXX', 'NVDA', 'AMD', 'INTC', 'LUV', 'XLF', 'TLT', 'LMT', '^TNX', '^TYX', '^FVX']\n",
            "Tickers would be dropped from the predictors in this run,  []\n"
          ]
        },
        {
          "output_type": "stream",
          "name": "stderr",
          "text": [
            "/usr/local/lib/python3.7/dist-packages/ipykernel_launcher.py:111: SettingWithCopyWarning: \n",
            "A value is trying to be set on a copy of a slice from a DataFrame\n",
            "\n",
            "See the caveats in the documentation: https://pandas.pydata.org/pandas-docs/stable/user_guide/indexing.html#returning-a-view-versus-a-copy\n",
            "/usr/local/lib/python3.7/dist-packages/ipykernel_launcher.py:112: SettingWithCopyWarning: \n",
            "A value is trying to be set on a copy of a slice from a DataFrame\n",
            "\n",
            "See the caveats in the documentation: https://pandas.pydata.org/pandas-docs/stable/user_guide/indexing.html#returning-a-view-versus-a-copy\n"
          ]
        },
        {
          "output_type": "stream",
          "name": "stdout",
          "text": [
            "Predict *********  TSLA********\n",
            "ACCURACY OF THE MODEL based on training data is:  0.8559322033898306\n",
            "[*********************100%***********************]  31 of 31 completed\n",
            "[*********************100%***********************]  31 of 31 completed\n",
            "Predict *********  TSLA**** result **** =  ['no']\n",
            "Predict *********  TSLA**** result **** =  [[0.52640603 0.47359397]]\n",
            "Candidate tickers could be dropped from the predictors,  ['DIA', '^VIX', 'MSFT', 'GOOGL', 'AAPL', 'AMZN', 'TSLA', 'PYPL', 'FDX', 'CAT', 'F', 'VCR', 'DBC', 'XLE', 'GLD', 'CNYA', 'BABA', 'SOXX', 'NVDA', 'AMD', 'INTC', 'LUV', 'XLF', 'TLT', 'LMT', '^TNX', '^TYX', '^FVX']\n",
            "Tickers would be dropped from the predictors in this run,  []\n"
          ]
        },
        {
          "output_type": "stream",
          "name": "stderr",
          "text": [
            "/usr/local/lib/python3.7/dist-packages/ipykernel_launcher.py:111: SettingWithCopyWarning: \n",
            "A value is trying to be set on a copy of a slice from a DataFrame\n",
            "\n",
            "See the caveats in the documentation: https://pandas.pydata.org/pandas-docs/stable/user_guide/indexing.html#returning-a-view-versus-a-copy\n",
            "/usr/local/lib/python3.7/dist-packages/ipykernel_launcher.py:112: SettingWithCopyWarning: \n",
            "A value is trying to be set on a copy of a slice from a DataFrame\n",
            "\n",
            "See the caveats in the documentation: https://pandas.pydata.org/pandas-docs/stable/user_guide/indexing.html#returning-a-view-versus-a-copy\n"
          ]
        },
        {
          "output_type": "stream",
          "name": "stdout",
          "text": [
            "Predict *********  ARKK********\n",
            "ACCURACY OF THE MODEL based on training data is:  0.7457627118644068\n",
            "[*********************100%***********************]  31 of 31 completed\n",
            "[*********************100%***********************]  31 of 31 completed\n",
            "Predict *********  ARKK**** result **** =  ['yes']\n",
            "Predict *********  ARKK**** result **** =  [[0.47596906 0.52403094]]\n",
            "Candidate tickers could be dropped from the predictors,  ['DIA', '^VIX', 'MSFT', 'GOOGL', 'AAPL', 'AMZN', 'TSLA', 'ARKK', 'FDX', 'CAT', 'F', 'VCR', 'DBC', 'XLE', 'GLD', 'CNYA', 'BABA', 'SOXX', 'NVDA', 'AMD', 'INTC', 'LUV', 'XLF', 'TLT', 'LMT', '^TNX', '^TYX', '^FVX']\n",
            "Tickers would be dropped from the predictors in this run,  []\n"
          ]
        },
        {
          "output_type": "stream",
          "name": "stderr",
          "text": [
            "/usr/local/lib/python3.7/dist-packages/ipykernel_launcher.py:111: SettingWithCopyWarning: \n",
            "A value is trying to be set on a copy of a slice from a DataFrame\n",
            "\n",
            "See the caveats in the documentation: https://pandas.pydata.org/pandas-docs/stable/user_guide/indexing.html#returning-a-view-versus-a-copy\n",
            "/usr/local/lib/python3.7/dist-packages/ipykernel_launcher.py:112: SettingWithCopyWarning: \n",
            "A value is trying to be set on a copy of a slice from a DataFrame\n",
            "\n",
            "See the caveats in the documentation: https://pandas.pydata.org/pandas-docs/stable/user_guide/indexing.html#returning-a-view-versus-a-copy\n"
          ]
        },
        {
          "output_type": "stream",
          "name": "stdout",
          "text": [
            "Predict *********  PYPL********\n",
            "ACCURACY OF THE MODEL based on training data is:  0.7711864406779662\n",
            "[*********************100%***********************]  31 of 31 completed\n",
            "[*********************100%***********************]  31 of 31 completed\n",
            "Predict *********  PYPL**** result **** =  ['no']\n",
            "Predict *********  PYPL**** result **** =  [[0.65006655 0.34993345]]\n",
            "Candidate tickers could be dropped from the predictors,  ['DIA', '^VIX', 'MSFT', 'GOOGL', 'AAPL', 'AMZN', 'TSLA', 'ARKK', 'PYPL', 'CAT', 'F', 'VCR', 'DBC', 'XLE', 'GLD', 'CNYA', 'BABA', 'SOXX', 'NVDA', 'AMD', 'INTC', 'LUV', 'XLF', 'TLT', 'LMT', '^TNX', '^TYX', '^FVX']\n",
            "Tickers would be dropped from the predictors in this run,  []\n"
          ]
        },
        {
          "output_type": "stream",
          "name": "stderr",
          "text": [
            "/usr/local/lib/python3.7/dist-packages/ipykernel_launcher.py:111: SettingWithCopyWarning: \n",
            "A value is trying to be set on a copy of a slice from a DataFrame\n",
            "\n",
            "See the caveats in the documentation: https://pandas.pydata.org/pandas-docs/stable/user_guide/indexing.html#returning-a-view-versus-a-copy\n",
            "/usr/local/lib/python3.7/dist-packages/ipykernel_launcher.py:112: SettingWithCopyWarning: \n",
            "A value is trying to be set on a copy of a slice from a DataFrame\n",
            "\n",
            "See the caveats in the documentation: https://pandas.pydata.org/pandas-docs/stable/user_guide/indexing.html#returning-a-view-versus-a-copy\n"
          ]
        },
        {
          "output_type": "stream",
          "name": "stdout",
          "text": [
            "Predict *********  FDX********\n",
            "ACCURACY OF THE MODEL based on training data is:  0.7711864406779662\n",
            "[*********************100%***********************]  31 of 31 completed\n",
            "[*********************100%***********************]  31 of 31 completed\n",
            "Predict *********  FDX**** result **** =  ['no']\n",
            "Predict *********  FDX**** result **** =  [[0.67332966 0.32667034]]\n",
            "Candidate tickers could be dropped from the predictors,  ['DIA', '^VIX', 'MSFT', 'GOOGL', 'AAPL', 'AMZN', 'TSLA', 'ARKK', 'PYPL', 'FDX', 'F', 'VCR', 'DBC', 'XLE', 'GLD', 'CNYA', 'BABA', 'SOXX', 'NVDA', 'AMD', 'INTC', 'LUV', 'XLF', 'TLT', 'LMT', '^TNX', '^TYX', '^FVX']\n",
            "Tickers would be dropped from the predictors in this run,  []\n"
          ]
        },
        {
          "output_type": "stream",
          "name": "stderr",
          "text": [
            "/usr/local/lib/python3.7/dist-packages/ipykernel_launcher.py:111: SettingWithCopyWarning: \n",
            "A value is trying to be set on a copy of a slice from a DataFrame\n",
            "\n",
            "See the caveats in the documentation: https://pandas.pydata.org/pandas-docs/stable/user_guide/indexing.html#returning-a-view-versus-a-copy\n",
            "/usr/local/lib/python3.7/dist-packages/ipykernel_launcher.py:112: SettingWithCopyWarning: \n",
            "A value is trying to be set on a copy of a slice from a DataFrame\n",
            "\n",
            "See the caveats in the documentation: https://pandas.pydata.org/pandas-docs/stable/user_guide/indexing.html#returning-a-view-versus-a-copy\n"
          ]
        },
        {
          "output_type": "stream",
          "name": "stdout",
          "text": [
            "Predict *********  CAT********\n",
            "ACCURACY OF THE MODEL based on training data is:  0.7711864406779662\n",
            "[*********************100%***********************]  31 of 31 completed\n",
            "[*********************100%***********************]  31 of 31 completed\n",
            "Predict *********  CAT**** result **** =  ['no']\n",
            "Predict *********  CAT**** result **** =  [[0.603124 0.396876]]\n",
            "Candidate tickers could be dropped from the predictors,  ['DIA', '^VIX', 'MSFT', 'GOOGL', 'AAPL', 'AMZN', 'TSLA', 'ARKK', 'PYPL', 'FDX', 'CAT', 'F', 'VCR', 'DBC', 'XLE', 'GLD', 'CNYA', 'SOXX', 'NVDA', 'AMD', 'INTC', 'LUV', 'XLF', 'TLT', 'LMT', '^TNX', '^TYX', '^FVX']\n",
            "Tickers would be dropped from the predictors in this run,  []\n"
          ]
        },
        {
          "output_type": "stream",
          "name": "stderr",
          "text": [
            "/usr/local/lib/python3.7/dist-packages/ipykernel_launcher.py:111: SettingWithCopyWarning: \n",
            "A value is trying to be set on a copy of a slice from a DataFrame\n",
            "\n",
            "See the caveats in the documentation: https://pandas.pydata.org/pandas-docs/stable/user_guide/indexing.html#returning-a-view-versus-a-copy\n",
            "/usr/local/lib/python3.7/dist-packages/ipykernel_launcher.py:112: SettingWithCopyWarning: \n",
            "A value is trying to be set on a copy of a slice from a DataFrame\n",
            "\n",
            "See the caveats in the documentation: https://pandas.pydata.org/pandas-docs/stable/user_guide/indexing.html#returning-a-view-versus-a-copy\n"
          ]
        },
        {
          "output_type": "stream",
          "name": "stdout",
          "text": [
            "Predict *********  BABA********\n",
            "ACCURACY OF THE MODEL based on training data is:  0.7203389830508474\n",
            "[*********************100%***********************]  31 of 31 completed\n",
            "[*********************100%***********************]  31 of 31 completed\n",
            "Predict *********  BABA**** result **** =  ['no']\n",
            "Predict *********  BABA**** result **** =  [[0.55438508 0.44561492]]\n",
            "Candidate tickers could be dropped from the predictors,  ['DIA', '^VIX', 'MSFT', 'GOOGL', 'AAPL', 'AMZN', 'TSLA', 'ARKK', 'PYPL', 'FDX', 'CAT', 'VCR', 'DBC', 'XLE', 'GLD', 'CNYA', 'BABA', 'SOXX', 'NVDA', 'AMD', 'INTC', 'LUV', 'XLF', 'TLT', 'LMT', '^TNX', '^TYX', '^FVX']\n",
            "Tickers would be dropped from the predictors in this run,  []\n"
          ]
        },
        {
          "output_type": "stream",
          "name": "stderr",
          "text": [
            "/usr/local/lib/python3.7/dist-packages/ipykernel_launcher.py:111: SettingWithCopyWarning: \n",
            "A value is trying to be set on a copy of a slice from a DataFrame\n",
            "\n",
            "See the caveats in the documentation: https://pandas.pydata.org/pandas-docs/stable/user_guide/indexing.html#returning-a-view-versus-a-copy\n",
            "/usr/local/lib/python3.7/dist-packages/ipykernel_launcher.py:112: SettingWithCopyWarning: \n",
            "A value is trying to be set on a copy of a slice from a DataFrame\n",
            "\n",
            "See the caveats in the documentation: https://pandas.pydata.org/pandas-docs/stable/user_guide/indexing.html#returning-a-view-versus-a-copy\n"
          ]
        },
        {
          "output_type": "stream",
          "name": "stdout",
          "text": [
            "Predict *********  F********\n",
            "ACCURACY OF THE MODEL based on training data is:  0.8050847457627118\n",
            "[*********************100%***********************]  31 of 31 completed\n",
            "[*********************100%***********************]  31 of 31 completed\n",
            "Predict *********  F**** result **** =  ['no']\n",
            "Predict *********  F**** result **** =  [[0.55234056 0.44765944]]\n",
            "Candidate tickers could be dropped from the predictors,  ['DIA', '^VIX', 'MSFT', 'GOOGL', 'AAPL', 'AMZN', 'TSLA', 'ARKK', 'PYPL', 'FDX', 'CAT', 'F', 'DBC', 'XLE', 'GLD', 'CNYA', 'BABA', 'SOXX', 'NVDA', 'AMD', 'INTC', 'LUV', 'XLF', 'TLT', 'LMT', '^TNX', '^TYX', '^FVX']\n",
            "Tickers would be dropped from the predictors in this run,  []\n"
          ]
        },
        {
          "output_type": "stream",
          "name": "stderr",
          "text": [
            "/usr/local/lib/python3.7/dist-packages/ipykernel_launcher.py:111: SettingWithCopyWarning: \n",
            "A value is trying to be set on a copy of a slice from a DataFrame\n",
            "\n",
            "See the caveats in the documentation: https://pandas.pydata.org/pandas-docs/stable/user_guide/indexing.html#returning-a-view-versus-a-copy\n",
            "/usr/local/lib/python3.7/dist-packages/ipykernel_launcher.py:112: SettingWithCopyWarning: \n",
            "A value is trying to be set on a copy of a slice from a DataFrame\n",
            "\n",
            "See the caveats in the documentation: https://pandas.pydata.org/pandas-docs/stable/user_guide/indexing.html#returning-a-view-versus-a-copy\n"
          ]
        },
        {
          "output_type": "stream",
          "name": "stdout",
          "text": [
            "Predict *********  VCR********\n",
            "ACCURACY OF THE MODEL based on training data is:  0.7966101694915254\n",
            "[*********************100%***********************]  31 of 31 completed\n",
            "[*********************100%***********************]  31 of 31 completed\n",
            "Predict *********  VCR**** result **** =  ['no']\n",
            "Predict *********  VCR**** result **** =  [[0.60841123 0.39158877]]\n",
            "Candidate tickers could be dropped from the predictors,  ['DIA', '^VIX', 'MSFT', 'GOOGL', 'AAPL', 'AMZN', 'TSLA', 'ARKK', 'PYPL', 'FDX', 'CAT', 'F', 'VCR', 'XLE', 'GLD', 'CNYA', 'BABA', 'SOXX', 'NVDA', 'AMD', 'INTC', 'LUV', 'XLF', 'TLT', 'LMT', '^TNX', '^TYX', '^FVX']\n",
            "Tickers would be dropped from the predictors in this run,  []\n"
          ]
        },
        {
          "output_type": "stream",
          "name": "stderr",
          "text": [
            "/usr/local/lib/python3.7/dist-packages/ipykernel_launcher.py:111: SettingWithCopyWarning: \n",
            "A value is trying to be set on a copy of a slice from a DataFrame\n",
            "\n",
            "See the caveats in the documentation: https://pandas.pydata.org/pandas-docs/stable/user_guide/indexing.html#returning-a-view-versus-a-copy\n",
            "/usr/local/lib/python3.7/dist-packages/ipykernel_launcher.py:112: SettingWithCopyWarning: \n",
            "A value is trying to be set on a copy of a slice from a DataFrame\n",
            "\n",
            "See the caveats in the documentation: https://pandas.pydata.org/pandas-docs/stable/user_guide/indexing.html#returning-a-view-versus-a-copy\n"
          ]
        },
        {
          "output_type": "stream",
          "name": "stdout",
          "text": [
            "Predict *********  DBC********\n",
            "ACCURACY OF THE MODEL based on training data is:  0.7457627118644068\n",
            "[*********************100%***********************]  31 of 31 completed\n",
            "[*********************100%***********************]  31 of 31 completed\n",
            "Predict *********  DBC**** result **** =  ['no']\n",
            "Predict *********  DBC**** result **** =  [[0.50122684 0.49877316]]\n",
            "Candidate tickers could be dropped from the predictors,  ['DIA', '^VIX', 'MSFT', 'GOOGL', 'AAPL', 'AMZN', 'TSLA', 'ARKK', 'PYPL', 'FDX', 'CAT', 'F', 'VCR', 'DBC', 'GLD', 'CNYA', 'BABA', 'SOXX', 'NVDA', 'AMD', 'INTC', 'LUV', 'XLF', 'TLT', 'LMT', '^TNX', '^TYX', '^FVX']\n",
            "Tickers would be dropped from the predictors in this run,  []\n"
          ]
        },
        {
          "output_type": "stream",
          "name": "stderr",
          "text": [
            "/usr/local/lib/python3.7/dist-packages/ipykernel_launcher.py:111: SettingWithCopyWarning: \n",
            "A value is trying to be set on a copy of a slice from a DataFrame\n",
            "\n",
            "See the caveats in the documentation: https://pandas.pydata.org/pandas-docs/stable/user_guide/indexing.html#returning-a-view-versus-a-copy\n",
            "/usr/local/lib/python3.7/dist-packages/ipykernel_launcher.py:112: SettingWithCopyWarning: \n",
            "A value is trying to be set on a copy of a slice from a DataFrame\n",
            "\n",
            "See the caveats in the documentation: https://pandas.pydata.org/pandas-docs/stable/user_guide/indexing.html#returning-a-view-versus-a-copy\n"
          ]
        },
        {
          "output_type": "stream",
          "name": "stdout",
          "text": [
            "Predict *********  XLE********\n",
            "ACCURACY OF THE MODEL based on training data is:  0.7542372881355932\n",
            "[*********************100%***********************]  31 of 31 completed\n",
            "[*********************100%***********************]  31 of 31 completed\n",
            "Predict *********  XLE**** result **** =  ['no']\n",
            "Predict *********  XLE**** result **** =  [[0.59297353 0.40702647]]\n",
            "Candidate tickers could be dropped from the predictors,  ['DIA', '^VIX', 'MSFT', 'GOOGL', 'AAPL', 'AMZN', 'TSLA', 'ARKK', 'PYPL', 'FDX', 'CAT', 'F', 'VCR', 'DBC', 'XLE', 'GLD', 'CNYA', 'BABA', 'NVDA', 'AMD', 'INTC', 'LUV', 'XLF', 'TLT', 'LMT', '^TNX', '^TYX', '^FVX']\n",
            "Tickers would be dropped from the predictors in this run,  []\n"
          ]
        },
        {
          "output_type": "stream",
          "name": "stderr",
          "text": [
            "/usr/local/lib/python3.7/dist-packages/ipykernel_launcher.py:111: SettingWithCopyWarning: \n",
            "A value is trying to be set on a copy of a slice from a DataFrame\n",
            "\n",
            "See the caveats in the documentation: https://pandas.pydata.org/pandas-docs/stable/user_guide/indexing.html#returning-a-view-versus-a-copy\n",
            "/usr/local/lib/python3.7/dist-packages/ipykernel_launcher.py:112: SettingWithCopyWarning: \n",
            "A value is trying to be set on a copy of a slice from a DataFrame\n",
            "\n",
            "See the caveats in the documentation: https://pandas.pydata.org/pandas-docs/stable/user_guide/indexing.html#returning-a-view-versus-a-copy\n"
          ]
        },
        {
          "output_type": "stream",
          "name": "stdout",
          "text": [
            "Predict *********  SOXX********\n",
            "ACCURACY OF THE MODEL based on training data is:  0.7203389830508474\n",
            "[*********************100%***********************]  31 of 31 completed\n",
            "[*********************100%***********************]  31 of 31 completed\n",
            "Predict *********  SOXX**** result **** =  ['no']\n",
            "Predict *********  SOXX**** result **** =  [[0.63552603 0.36447397]]\n",
            "Candidate tickers could be dropped from the predictors,  ['DIA', '^VIX', 'MSFT', 'GOOGL', 'AAPL', 'AMZN', 'TSLA', 'ARKK', 'PYPL', 'FDX', 'CAT', 'F', 'VCR', 'DBC', 'XLE', 'GLD', 'CNYA', 'BABA', 'SOXX', 'AMD', 'INTC', 'LUV', 'XLF', 'TLT', 'LMT', '^TNX', '^TYX', '^FVX']\n",
            "Tickers would be dropped from the predictors in this run,  []\n"
          ]
        },
        {
          "output_type": "stream",
          "name": "stderr",
          "text": [
            "/usr/local/lib/python3.7/dist-packages/ipykernel_launcher.py:111: SettingWithCopyWarning: \n",
            "A value is trying to be set on a copy of a slice from a DataFrame\n",
            "\n",
            "See the caveats in the documentation: https://pandas.pydata.org/pandas-docs/stable/user_guide/indexing.html#returning-a-view-versus-a-copy\n",
            "/usr/local/lib/python3.7/dist-packages/ipykernel_launcher.py:112: SettingWithCopyWarning: \n",
            "A value is trying to be set on a copy of a slice from a DataFrame\n",
            "\n",
            "See the caveats in the documentation: https://pandas.pydata.org/pandas-docs/stable/user_guide/indexing.html#returning-a-view-versus-a-copy\n"
          ]
        },
        {
          "output_type": "stream",
          "name": "stdout",
          "text": [
            "Predict *********  NVDA********\n",
            "ACCURACY OF THE MODEL based on training data is:  0.7542372881355932\n",
            "[*********************100%***********************]  31 of 31 completed\n",
            "[*********************100%***********************]  31 of 31 completed\n",
            "Predict *********  NVDA**** result **** =  ['no']\n",
            "Predict *********  NVDA**** result **** =  [[0.62753827 0.37246173]]\n",
            "Candidate tickers could be dropped from the predictors,  ['DIA', '^VIX', 'MSFT', 'GOOGL', 'AAPL', 'AMZN', 'TSLA', 'ARKK', 'PYPL', 'FDX', 'CAT', 'F', 'VCR', 'DBC', 'XLE', 'GLD', 'CNYA', 'BABA', 'SOXX', 'NVDA', 'INTC', 'LUV', 'XLF', 'TLT', 'LMT', '^TNX', '^TYX', '^FVX']\n",
            "Tickers would be dropped from the predictors in this run,  []\n"
          ]
        },
        {
          "output_type": "stream",
          "name": "stderr",
          "text": [
            "/usr/local/lib/python3.7/dist-packages/ipykernel_launcher.py:111: SettingWithCopyWarning: \n",
            "A value is trying to be set on a copy of a slice from a DataFrame\n",
            "\n",
            "See the caveats in the documentation: https://pandas.pydata.org/pandas-docs/stable/user_guide/indexing.html#returning-a-view-versus-a-copy\n",
            "/usr/local/lib/python3.7/dist-packages/ipykernel_launcher.py:112: SettingWithCopyWarning: \n",
            "A value is trying to be set on a copy of a slice from a DataFrame\n",
            "\n",
            "See the caveats in the documentation: https://pandas.pydata.org/pandas-docs/stable/user_guide/indexing.html#returning-a-view-versus-a-copy\n"
          ]
        },
        {
          "output_type": "stream",
          "name": "stdout",
          "text": [
            "Predict *********  AMD********\n",
            "ACCURACY OF THE MODEL based on training data is:  0.7457627118644068\n",
            "[*********************100%***********************]  31 of 31 completed\n",
            "[*********************100%***********************]  31 of 31 completed\n",
            "Predict *********  AMD**** result **** =  ['no']\n",
            "Predict *********  AMD**** result **** =  [[0.60477436 0.39522564]]\n",
            "Candidate tickers could be dropped from the predictors,  ['DIA', '^VIX', 'MSFT', 'GOOGL', 'AAPL', 'AMZN', 'TSLA', 'ARKK', 'PYPL', 'FDX', 'CAT', 'F', 'VCR', 'DBC', 'XLE', 'GLD', 'CNYA', 'BABA', 'SOXX', 'NVDA', 'AMD', 'LUV', 'XLF', 'TLT', 'LMT', '^TNX', '^TYX', '^FVX']\n",
            "Tickers would be dropped from the predictors in this run,  []\n"
          ]
        },
        {
          "output_type": "stream",
          "name": "stderr",
          "text": [
            "/usr/local/lib/python3.7/dist-packages/ipykernel_launcher.py:111: SettingWithCopyWarning: \n",
            "A value is trying to be set on a copy of a slice from a DataFrame\n",
            "\n",
            "See the caveats in the documentation: https://pandas.pydata.org/pandas-docs/stable/user_guide/indexing.html#returning-a-view-versus-a-copy\n",
            "/usr/local/lib/python3.7/dist-packages/ipykernel_launcher.py:112: SettingWithCopyWarning: \n",
            "A value is trying to be set on a copy of a slice from a DataFrame\n",
            "\n",
            "See the caveats in the documentation: https://pandas.pydata.org/pandas-docs/stable/user_guide/indexing.html#returning-a-view-versus-a-copy\n"
          ]
        },
        {
          "output_type": "stream",
          "name": "stdout",
          "text": [
            "Predict *********  INTC********\n",
            "ACCURACY OF THE MODEL based on training data is:  0.7627118644067796\n",
            "[*********************100%***********************]  31 of 31 completed\n",
            "[*********************100%***********************]  31 of 31 completed\n",
            "Predict *********  INTC**** result **** =  ['no']\n",
            "Predict *********  INTC**** result **** =  [[0.5438654 0.4561346]]\n",
            "Candidate tickers could be dropped from the predictors,  ['DIA', '^VIX', 'MSFT', 'GOOGL', 'AAPL', 'AMZN', 'TSLA', 'ARKK', 'PYPL', 'FDX', 'CAT', 'F', 'VCR', 'DBC', 'XLE', 'GLD', 'CNYA', 'BABA', 'SOXX', 'NVDA', 'AMD', 'INTC', 'XLF', 'TLT', 'LMT', '^TNX', '^TYX', '^FVX']\n",
            "Tickers would be dropped from the predictors in this run,  []\n"
          ]
        },
        {
          "output_type": "stream",
          "name": "stderr",
          "text": [
            "/usr/local/lib/python3.7/dist-packages/ipykernel_launcher.py:111: SettingWithCopyWarning: \n",
            "A value is trying to be set on a copy of a slice from a DataFrame\n",
            "\n",
            "See the caveats in the documentation: https://pandas.pydata.org/pandas-docs/stable/user_guide/indexing.html#returning-a-view-versus-a-copy\n",
            "/usr/local/lib/python3.7/dist-packages/ipykernel_launcher.py:112: SettingWithCopyWarning: \n",
            "A value is trying to be set on a copy of a slice from a DataFrame\n",
            "\n",
            "See the caveats in the documentation: https://pandas.pydata.org/pandas-docs/stable/user_guide/indexing.html#returning-a-view-versus-a-copy\n"
          ]
        },
        {
          "output_type": "stream",
          "name": "stdout",
          "text": [
            "Predict *********  LUV********\n",
            "ACCURACY OF THE MODEL based on training data is:  0.9152542372881356\n",
            "[*********************100%***********************]  31 of 31 completed\n",
            "[*********************100%***********************]  31 of 31 completed\n",
            "Predict *********  LUV**** result **** =  ['no']\n",
            "Predict *********  LUV**** result **** =  [[0.51781605 0.48218395]]\n",
            "Candidate tickers could be dropped from the predictors,  ['DIA', '^VIX', 'MSFT', 'GOOGL', 'AAPL', 'AMZN', 'TSLA', 'ARKK', 'PYPL', 'FDX', 'CAT', 'F', 'VCR', 'DBC', 'XLE', 'GLD', 'CNYA', 'BABA', 'SOXX', 'NVDA', 'AMD', 'INTC', 'LUV', 'TLT', 'LMT', '^TNX', '^TYX', '^FVX']\n",
            "Tickers would be dropped from the predictors in this run,  []\n"
          ]
        },
        {
          "output_type": "stream",
          "name": "stderr",
          "text": [
            "/usr/local/lib/python3.7/dist-packages/ipykernel_launcher.py:111: SettingWithCopyWarning: \n",
            "A value is trying to be set on a copy of a slice from a DataFrame\n",
            "\n",
            "See the caveats in the documentation: https://pandas.pydata.org/pandas-docs/stable/user_guide/indexing.html#returning-a-view-versus-a-copy\n",
            "/usr/local/lib/python3.7/dist-packages/ipykernel_launcher.py:112: SettingWithCopyWarning: \n",
            "A value is trying to be set on a copy of a slice from a DataFrame\n",
            "\n",
            "See the caveats in the documentation: https://pandas.pydata.org/pandas-docs/stable/user_guide/indexing.html#returning-a-view-versus-a-copy\n"
          ]
        },
        {
          "output_type": "stream",
          "name": "stdout",
          "text": [
            "Predict *********  XLF********\n",
            "ACCURACY OF THE MODEL based on training data is:  0.7711864406779662\n",
            "[*********************100%***********************]  31 of 31 completed\n",
            "[*********************100%***********************]  31 of 31 completed\n",
            "Predict *********  XLF**** result **** =  ['no']\n",
            "Predict *********  XLF**** result **** =  [[0.68680308 0.31319692]]\n",
            "[[datetime.datetime(2022, 7, 12, 15, 58, 47, 633935, tzinfo=<DstTzInfo 'US/Mountain' MDT-1 day, 18:00:00 DST>), 'SPY', array([[0.57443528, 0.42556472]]), 0.788135593220339], [datetime.datetime(2022, 7, 12, 15, 58, 47, 633935, tzinfo=<DstTzInfo 'US/Mountain' MDT-1 day, 18:00:00 DST>), 'XLF', array([[0.68680308, 0.31319692]]), 0.7711864406779662], [datetime.datetime(2022, 7, 12, 15, 58, 47, 633935, tzinfo=<DstTzInfo 'US/Mountain' MDT-1 day, 18:00:00 DST>), 'LUV', array([[0.51781605, 0.48218395]]), 0.9152542372881356], [datetime.datetime(2022, 7, 12, 15, 58, 47, 633935, tzinfo=<DstTzInfo 'US/Mountain' MDT-1 day, 18:00:00 DST>), 'INTC', array([[0.5438654, 0.4561346]]), 0.7627118644067796], [datetime.datetime(2022, 7, 12, 15, 58, 47, 633935, tzinfo=<DstTzInfo 'US/Mountain' MDT-1 day, 18:00:00 DST>), 'AMD', array([[0.60477436, 0.39522564]]), 0.7457627118644068], [datetime.datetime(2022, 7, 12, 15, 58, 47, 633935, tzinfo=<DstTzInfo 'US/Mountain' MDT-1 day, 18:00:00 DST>), 'NVDA', array([[0.62753827, 0.37246173]]), 0.7542372881355932], [datetime.datetime(2022, 7, 12, 15, 58, 47, 633935, tzinfo=<DstTzInfo 'US/Mountain' MDT-1 day, 18:00:00 DST>), 'SOXX', array([[0.63552603, 0.36447397]]), 0.7203389830508474], [datetime.datetime(2022, 7, 12, 15, 58, 47, 633935, tzinfo=<DstTzInfo 'US/Mountain' MDT-1 day, 18:00:00 DST>), 'XLE', array([[0.59297353, 0.40702647]]), 0.7542372881355932], [datetime.datetime(2022, 7, 12, 15, 58, 47, 633935, tzinfo=<DstTzInfo 'US/Mountain' MDT-1 day, 18:00:00 DST>), 'DBC', array([[0.50122684, 0.49877316]]), 0.7457627118644068], [datetime.datetime(2022, 7, 12, 15, 58, 47, 633935, tzinfo=<DstTzInfo 'US/Mountain' MDT-1 day, 18:00:00 DST>), 'VCR', array([[0.60841123, 0.39158877]]), 0.7966101694915254], [datetime.datetime(2022, 7, 12, 15, 58, 47, 633935, tzinfo=<DstTzInfo 'US/Mountain' MDT-1 day, 18:00:00 DST>), 'F', array([[0.55234056, 0.44765944]]), 0.8050847457627118], [datetime.datetime(2022, 7, 12, 15, 58, 47, 633935, tzinfo=<DstTzInfo 'US/Mountain' MDT-1 day, 18:00:00 DST>), 'BABA', array([[0.55438508, 0.44561492]]), 0.7203389830508474], [datetime.datetime(2022, 7, 12, 15, 58, 47, 633935, tzinfo=<DstTzInfo 'US/Mountain' MDT-1 day, 18:00:00 DST>), 'CAT', array([[0.603124, 0.396876]]), 0.7711864406779662], [datetime.datetime(2022, 7, 12, 15, 58, 47, 633935, tzinfo=<DstTzInfo 'US/Mountain' MDT-1 day, 18:00:00 DST>), 'FDX', array([[0.67332966, 0.32667034]]), 0.7711864406779662], [datetime.datetime(2022, 7, 12, 15, 58, 47, 633935, tzinfo=<DstTzInfo 'US/Mountain' MDT-1 day, 18:00:00 DST>), 'PYPL', array([[0.65006655, 0.34993345]]), 0.7711864406779662], [datetime.datetime(2022, 7, 12, 15, 58, 47, 633935, tzinfo=<DstTzInfo 'US/Mountain' MDT-1 day, 18:00:00 DST>), 'ARKK', array([[0.47596906, 0.52403094]]), 0.7457627118644068], [datetime.datetime(2022, 7, 12, 15, 58, 47, 633935, tzinfo=<DstTzInfo 'US/Mountain' MDT-1 day, 18:00:00 DST>), 'TSLA', array([[0.52640603, 0.47359397]]), 0.8559322033898306], [datetime.datetime(2022, 7, 12, 15, 58, 47, 633935, tzinfo=<DstTzInfo 'US/Mountain' MDT-1 day, 18:00:00 DST>), 'AMZN', array([[0.50695432, 0.49304568]]), 0.7966101694915254], [datetime.datetime(2022, 7, 12, 15, 58, 47, 633935, tzinfo=<DstTzInfo 'US/Mountain' MDT-1 day, 18:00:00 DST>), 'AAPL', array([[0.45894463, 0.54105537]]), 0.7796610169491526], [datetime.datetime(2022, 7, 12, 15, 58, 47, 633935, tzinfo=<DstTzInfo 'US/Mountain' MDT-1 day, 18:00:00 DST>), 'GOOGL', array([[0.51520218, 0.48479782]]), 0.7796610169491526], [datetime.datetime(2022, 7, 12, 15, 58, 47, 633935, tzinfo=<DstTzInfo 'US/Mountain' MDT-1 day, 18:00:00 DST>), 'MSFT', array([[0.54622777, 0.45377223]]), 0.788135593220339], [datetime.datetime(2022, 7, 12, 15, 58, 47, 633935, tzinfo=<DstTzInfo 'US/Mountain' MDT-1 day, 18:00:00 DST>), 'DIA', array([[0.60695483, 0.39304517]]), 0.7796610169491526], [datetime.datetime(2022, 7, 12, 15, 58, 47, 633935, tzinfo=<DstTzInfo 'US/Mountain' MDT-1 day, 18:00:00 DST>), 'QQQ', array([[0.47785553, 0.52214447]]), 0.7966101694915254]]\n",
            "   Predicted Day Ticker  Prob_down   Prob_up  trainAccuracy  abs_prob_up\n",
            "0      2022/7/12    SPY   0.574435  0.425565       0.788136     0.335403\n",
            "1      2022/7/12    XLF   0.686803  0.313197       0.771186     0.241533\n",
            "2      2022/7/12    LUV   0.517816  0.482184       0.915254     0.441321\n",
            "3      2022/7/12   INTC   0.543865  0.456135       0.762712     0.347899\n",
            "4      2022/7/12    AMD   0.604774  0.395226       0.745763     0.294745\n",
            "5      2022/7/12   NVDA   0.627538  0.372462       0.754237     0.280925\n",
            "6      2022/7/12   SOXX   0.635526  0.364474       0.720339     0.262545\n",
            "7      2022/7/12    XLE   0.592974  0.407026       0.754237     0.306995\n",
            "8      2022/7/12    DBC   0.501227  0.498773       0.745763     0.371966\n",
            "9      2022/7/12    VCR   0.608411  0.391589       0.796610     0.311944\n",
            "10     2022/7/12      F   0.552341  0.447659       0.805085     0.360404\n",
            "11     2022/7/12   BABA   0.554385  0.445615       0.720339     0.320994\n",
            "12     2022/7/12    CAT   0.603124  0.396876       0.771186     0.306065\n",
            "13     2022/7/12    FDX   0.673330  0.326670       0.771186     0.251924\n",
            "14     2022/7/12   PYPL   0.650067  0.349933       0.771186     0.269864\n",
            "15     2022/7/12   ARKK   0.475969  0.524031       0.745763     0.390803\n",
            "16     2022/7/12   TSLA   0.526406  0.473594       0.855932     0.405364\n",
            "17     2022/7/12   AMZN   0.506954  0.493046       0.796610     0.392765\n",
            "18     2022/7/12   AAPL   0.458945  0.541055       0.779661     0.421840\n",
            "19     2022/7/12  GOOGL   0.515202  0.484798       0.779661     0.377978\n",
            "20     2022/7/12   MSFT   0.546228  0.453772       0.788136     0.357634\n",
            "21     2022/7/12    DIA   0.606955  0.393045       0.779661     0.306442\n",
            "22     2022/7/12    QQQ   0.477856  0.522144       0.796610     0.415946\n",
            "<bound method DataFrame.reset_index of         Prob_up mean  Prob_up std  abs_prob_up mean  abs_prob_up std\n",
            "Ticker                                                              \n",
            "XLF         0.313197          NaN          0.241533              NaN\n",
            "FDX         0.326670          NaN          0.251924              NaN\n",
            "PYPL        0.349933          NaN          0.269864              NaN\n",
            "SOXX        0.364474          NaN          0.262545              NaN\n",
            "NVDA        0.372462          NaN          0.280925              NaN\n",
            "VCR         0.391589          NaN          0.311944              NaN\n",
            "DIA         0.393045          NaN          0.306442              NaN\n",
            "AMD         0.395226          NaN          0.294745              NaN\n",
            "CAT         0.396876          NaN          0.306065              NaN\n",
            "XLE         0.407026          NaN          0.306995              NaN\n",
            "SPY         0.425565          NaN          0.335403              NaN\n",
            "BABA        0.445615          NaN          0.320994              NaN\n",
            "F           0.447659          NaN          0.360404              NaN\n",
            "MSFT        0.453772          NaN          0.357634              NaN\n",
            "INTC        0.456135          NaN          0.347899              NaN\n",
            "TSLA        0.473594          NaN          0.405364              NaN\n",
            "LUV         0.482184          NaN          0.441321              NaN\n",
            "GOOGL       0.484798          NaN          0.377978              NaN\n",
            "AMZN        0.493046          NaN          0.392765              NaN\n",
            "DBC         0.498773          NaN          0.371966              NaN\n",
            "QQQ         0.522144          NaN          0.415946              NaN\n",
            "ARKK        0.524031          NaN          0.390803              NaN\n",
            "AAPL        0.541055          NaN          0.421840              NaN>\n"
          ]
        }
      ],
      "source": [
        "#********************************\n",
        "# Author: Yu Wei\n",
        "# 05/29/2022\n",
        "#********************************\n",
        "\n",
        "#We will create random forest model and use it to predict tomorrow's stock prices\n",
        "import seaborn as sns\n",
        "\n",
        "import yfinance as yf\n",
        "\n",
        "import pandas as pd\n",
        "import numpy as np\n",
        "import matplotlib.pyplot as plt\n",
        "\n",
        "import random\n",
        "\n",
        "import datetime\n",
        "from dateutil.relativedelta import relativedelta\n",
        "from pytz import timezone\n",
        "\n",
        "mountain = timezone('US/Mountain')\n",
        "\n",
        "from sklearn.ensemble import RandomForestClassifier\n",
        "from sklearn.datasets import make_classification\n",
        "from sklearn.metrics import accuracy_score, confusion_matrix, classification_report\n",
        "from sklearn import metrics\n",
        "from sklearn.metrics import roc_curve, auc\n",
        "from sklearn.impute import SimpleImputer\n",
        "\n",
        "import requests\n",
        "\n",
        "url=\"https://www.census.gov/economic-indicators/calendar-listview.html\"\n",
        "df_list_kpidate = pd.read_html(url)\n",
        "df_list_kpidate = df_list_kpidate[0]\n",
        "df_list_kpidate.columns = df_list_kpidate.iloc[0]\n",
        "df_list_kpidate = df_list_kpidate[1:]\n",
        "df_list_kpidate['Release Date'] =  pd.to_datetime(df_list_kpidate['Release Date'])\n",
        "\n",
        "currentDatetime = datetime.datetime.now(mountain)\n",
        "tomorrowDatetime = (currentDatetime + datetime.timedelta(days=1)).date()\n",
        "tomorrowDatetime = datetime.datetime.strftime(tomorrowDatetime, '%Y-%m-%d')\n",
        "df_list_kpidate = df_list_kpidate[df_list_kpidate['Release Date'] == tomorrowDatetime]\n",
        "print(df_list_kpidate)\n",
        "\n",
        "# Those are the stocks used as explanatory variables\n",
        "tickers_list = ['SPY',\n",
        "                'QQQ',\n",
        "                'DIA', \n",
        "                '^VIX', \n",
        "                'MSFT',\"GOOGL\",\"AAPL\",\"AMZN\",\n",
        "                'TSLA',\n",
        "                'ARKK','PYPL', \n",
        "                'FDX',\n",
        "                'CAT',\n",
        "                'F',\n",
        "                \"VCR\",#'COST',\n",
        "                \"DBC\",'XLE','GLD',\n",
        "                'CNYA','BABA',\n",
        "                'SOXX','NVDA','AMD','INTC',\n",
        "                'LUV',\n",
        "                \"XLF\",\n",
        "                'TLT',\n",
        "                'LMT',\n",
        "                '^TNX',\n",
        "                '^TYX',\n",
        "                '^FVX'\n",
        "                ]\n",
        "\n",
        "# You can select the starting time of data downloads\n",
        "data =  yf.download(tickers_list,'2022-01-10',currentDatetime)['Adj Close']\n",
        "data =  data.reset_index() # need to reset index \n",
        "dataV = yf.download(tickers_list,'2022-01-10',currentDatetime)['Volume']\n",
        "dataV = dataV.reset_index() # need to reset index \n",
        "\n",
        "# Those are stocks you are interested in predicting\n",
        "# We can predict tickers that are not in the predictor variable\n",
        "# but we will lose the power from time series analysis\n",
        "predictedVar_list = ['SPY',\n",
        "                     'QQQ',\n",
        "                    'DIA', \n",
        "                    #'^VIX', \n",
        "                    'MSFT',\"GOOGL\",\"AAPL\",\n",
        "                    \"AMZN\",\n",
        "                    'TSLA',\n",
        "                    'ARKK','PYPL', \n",
        "                    'FDX',\n",
        "                    'CAT',\n",
        "                    'BABA',\n",
        "                    'F',\n",
        "                    \"VCR\",#'COST',\n",
        "                    \"DBC\",'XLE',\n",
        "                    'SOXX',\n",
        "                    #'ABNB',\n",
        "                    'NVDA','AMD','INTC',\n",
        "                    'LUV',\n",
        "                    \"XLF\"\n",
        "                    ]\n",
        "\n",
        "# Empty list used to save the probability\n",
        "predictedProb_list = []\n",
        "# We will predict each stock \n",
        "for predictedVar in predictedVar_list:\n",
        "    # data is used to save the adj close price only\n",
        "    # Just use the 3 lines to calculate the price change\n",
        "    # and convert up and down as binary\n",
        "    # only extract price change starting from the seventh record\n",
        "    # represent the price change from the sixth day to the seventh day\n",
        "    a=data[predictedVar][1:] # day t\n",
        "    b=data[predictedVar][0:-1]  # day t-1\n",
        "    y=(a.reset_index()-b.reset_index())[6:].reset_index(drop=True)\n",
        "    y[predictedVar][y[predictedVar] <= 0] = 0\n",
        "    y[predictedVar][y[predictedVar] >  0] = 1\n",
        "    y[predictedVar] = y[predictedVar].map({1:'yes', 0:'no'})\n",
        "\n",
        "    for num_randomruns in range(1): \n",
        "        # Randomly drop N items from the predictor list except the predicted var\n",
        "        # We will always keep the predicted variable so we can maintain the time\n",
        "        # series for that variable\n",
        "        candidate_ticker_to_drop = [x for x in tickers_list if x != predictedVar and x!= 'SPY' and x!= 'QQQ'] \n",
        "        droptickers=random.sample(candidate_ticker_to_drop, 0)\n",
        "        print(\"Candidate tickers could be dropped from the predictors, \", candidate_ticker_to_drop)      \n",
        "        print(\"Tickers would be dropped from the predictors in this run, \",droptickers)\n",
        "          \n",
        "        x_6=data.drop(droptickers+['Date'], axis=1)[1:-6].reset_index(drop=True)\n",
        "        x_5=data.drop(droptickers+['Date'], axis=1)[2:-5].reset_index(drop=True)\n",
        "        x_4=data.drop(droptickers+['Date'], axis=1)[3:-4].reset_index(drop=True)\n",
        "        x_3=data.drop(droptickers+['Date'], axis=1)[4:-3].reset_index(drop=True)\n",
        "        x_2=data.drop(droptickers+['Date'], axis=1)[5:-2].reset_index(drop=True)\n",
        "        x_1=data.drop(droptickers+['Date'], axis=1)[6:-1].reset_index(drop=True)\n",
        "\n",
        "        x_1 = x_1.add_suffix('_1')\n",
        "        x_2 = x_2.add_suffix('_2')\n",
        "        x_3 = x_3.add_suffix('_3')\n",
        "        x_4 = x_4.add_suffix('_4')\n",
        "        x_5 = x_5.add_suffix('_5')\n",
        "        x_6 = x_6.add_suffix('_6')\n",
        "        \n",
        "        x_6_v=dataV.drop(droptickers+['Date'], axis=1)[1:-6].reset_index(drop=True)\n",
        "        x_5_v=dataV.drop(droptickers+['Date'], axis=1)[2:-5].reset_index(drop=True)\n",
        "        x_4_v=dataV.drop(droptickers+['Date'], axis=1)[3:-4].reset_index(drop=True)\n",
        "        x_3_v=dataV.drop(droptickers+['Date'], axis=1)[4:-3].reset_index(drop=True)\n",
        "        x_2_v=dataV.drop(droptickers+['Date'], axis=1)[5:-2].reset_index(drop=True)\n",
        "        x_1_v=dataV.drop(droptickers+['Date'], axis=1)[6:-1].reset_index(drop=True)\n",
        "\n",
        "        x_1_v = x_1_v.add_suffix('_1v')\n",
        "        x_2_v = x_2_v.add_suffix('_2v')\n",
        "        x_3_v = x_3_v.add_suffix('_3v')\n",
        "        x_4_V = x_4_v.add_suffix('_4v')\n",
        "        x_5_v = x_5_v.add_suffix('_5v')\n",
        "        x_6_v = x_6_v.add_suffix('_6v')\n",
        "        \n",
        "        dfs = [x_1, x_2, x_3, x_4, x_5, x_6, x_1_v, x_2_v, x_3_v, x_4_v, x_5_v, x_6_v]\n",
        "        x= pd.concat(dfs, axis=1).reset_index()\n",
        "\n",
        "        clf = RandomForestClassifier(n_estimators = 200, min_samples_leaf = 30, max_depth=5, \n",
        "                                      max_features= 'auto', bootstrap = False)  \n",
        "        clf.fit(x, y[predictedVar])\n",
        "\n",
        "        y_pred_train = clf.predict(x)\n",
        "\n",
        "        # using metrics module for accuracy calculation \n",
        "        trainAccuracy = metrics.accuracy_score(y[predictedVar], y_pred_train)\n",
        "        print(\"Predict *********  \" + predictedVar + \"********\")\n",
        "        print(\"ACCURACY OF THE MODEL based on training data is: \", trainAccuracy) \n",
        "\n",
        "        # now let's do some real world testing\n",
        "        fiveDay_ago = currentDatetime - datetime.timedelta(days=11)\n",
        "        data_test = yf.download(tickers_list,fiveDay_ago ,currentDatetime)['Adj Close'][-6:]\n",
        "        data_testV = yf.download(tickers_list,fiveDay_ago ,currentDatetime)['Volume'][-6:]\n",
        "        data_test = data_test.reset_index()\n",
        "        data_testV= data_testV.reset_index()\n",
        "        \n",
        "        x_5_t=data_test.drop(droptickers+['Date'], axis=1)[0:1].reset_index(drop=True)\n",
        "        x_4_t=data_test.drop(droptickers+['Date'], axis=1)[1:2].reset_index(drop=True)\n",
        "        x_3_t=data_test.drop(droptickers+['Date'], axis=1)[2:3].reset_index(drop=True)\n",
        "        x_2_t=data_test.drop(droptickers+['Date'], axis=1)[3:4].reset_index(drop=True)\n",
        "        x_1_t=data_test.drop(droptickers+['Date'], axis=1)[4:5].reset_index(drop=True)\n",
        "        x_0_t=data_test.drop(droptickers+['Date'], axis=1)[5:6].reset_index(drop=True)\n",
        "\n",
        "        x_0_t = x_0_t.add_suffix('_1')\n",
        "        x_1_t = x_1_t.add_suffix('_2')\n",
        "        x_2_t = x_2_t.add_suffix('_3')\n",
        "        x_3_t = x_3_t.add_suffix('_4')\n",
        "        x_4_t = x_4_t.add_suffix('_5')\n",
        "        x_5_t = x_5_t.add_suffix('_6')\n",
        "\n",
        "        x_6_v=data_testV.drop(droptickers+['Date'], axis=1)[0:1].reset_index(drop=True)\n",
        "        x_5_v=data_testV.drop(droptickers+['Date'], axis=1)[1:2].reset_index(drop=True)\n",
        "        x_4_v=data_testV.drop(droptickers+['Date'], axis=1)[2:3].reset_index(drop=True)\n",
        "        x_3_v=data_testV.drop(droptickers+['Date'], axis=1)[3:4].reset_index(drop=True)\n",
        "        x_2_v=data_testV.drop(droptickers+['Date'], axis=1)[4:5].reset_index(drop=True)\n",
        "        x_1_v=data_testV.drop(droptickers+['Date'], axis=1)[5:6].reset_index(drop=True)\n",
        "\n",
        "        x_1_v = x_1_v.add_suffix('_1v')\n",
        "        x_2_v = x_2_v.add_suffix('_2v')\n",
        "        x_3_v = x_3_v.add_suffix('_3v')\n",
        "        x_4_V = x_4_v.add_suffix('_4v')\n",
        "        x_5_v = x_5_v.add_suffix('_5v')\n",
        "        x_6_v = x_6_v.add_suffix('_6v')\n",
        "        \n",
        "        dfs_test = [x_0_t, x_1_t, x_2_t, x_3_t, x_4_t, x_5_t, x_1_v, x_2_v, x_3_v, x_4_v, x_5_v, x_6_v]\n",
        "        x_t= pd.concat(dfs_test, axis=1).reset_index()\n",
        "        #print(x_t.columns)\n",
        "        y_pred_test = clf.predict(x_t)\n",
        "        y_pred_test_prob = clf.predict_proba(x_t)  \n",
        "\n",
        "        print(\"Predict *********  \" + predictedVar + \"**** result **** = \",  y_pred_test)\n",
        "        print(\"Predict *********  \" + predictedVar + \"**** result **** = \",  y_pred_test_prob)\n",
        "\n",
        "        predictedProb_list.insert (1, [currentDatetime, predictedVar, y_pred_test_prob, trainAccuracy])\n",
        "\n",
        "print(predictedProb_list)\n",
        "\n",
        "printableProb = pd.DataFrame(columns=['Predicted Day','Ticker','Prob_down','Prob_up','trainAccuracy','abs_prob_up'])\n",
        "index_in =0\n",
        "for symbolname in predictedProb_list:\n",
        "    tickername = symbolname[1]\n",
        "    prob_down = symbolname[2][0][0]\n",
        "    prob_up = symbolname[2][0][1]\n",
        "    date_pred = str(symbolname[0].date().year)+'/'+str(symbolname[0].date().month)+'/'+str(symbolname[0].date().day)\n",
        "    trainaccuracy_ticker = symbolname[3]\n",
        "    absolute_prob_up = trainaccuracy_ticker*prob_up\n",
        "    predict_list =[date_pred, tickername, prob_down, prob_up,trainaccuracy_ticker, absolute_prob_up]\n",
        "    printableProb.loc[len(printableProb)] = predict_list\n",
        "\n",
        "print(printableProb)\n",
        "\n",
        "# Groupby the quality column using aggregate\n",
        "# value of mean and std\n",
        "qual = printableProb.groupby(\"Ticker\").agg([np.mean, np.std])\n",
        "qual.columns = [' '.join(col) for col in qual.columns]\n",
        "qual = qual[['Prob_up mean','Prob_up std','abs_prob_up mean','abs_prob_up std']]\n",
        "qual = qual.sort_values('Prob_up mean')\n",
        "qual= qual.reset_index\n",
        "print(qual)"
      ]
    },
    {
      "cell_type": "code",
      "execution_count": null,
      "metadata": {
        "colab": {
          "base_uri": "https://localhost:8080/",
          "height": 818
        },
        "id": "btLqY8DAsW27",
        "outputId": "2702fea0-d8d0-4579-b49c-5b5bab820d67"
      },
      "outputs": [
        {
          "output_type": "stream",
          "name": "stdout",
          "text": [
            "currentDatetime predictedVar callTotal putTotal put_call_ratio\n",
            "2022-06-26 06:59:27.965043-06:00 VCR 162.0 74.0 0.4567901234567901\n",
            "2022-06-26 06:59:27.965043-06:00 DIA 33294.0 64766.0 1.9452754250015019\n",
            "2022-06-26 06:59:27.965043-06:00 MSFT 146944.0 92165.0 0.6272117269163763\n",
            "2022-06-26 06:59:27.965043-06:00 GOOGL 46371.0 24237.0 0.5226758103124798\n",
            "2022-06-26 06:59:27.965043-06:00 TSLA 295941.0 270941.0 0.9155237023595919\n",
            "2022-06-26 06:59:27.965043-06:00 ARKK 121692.0 92302.0 0.7584886434605397\n",
            "2022-06-26 06:59:27.965043-06:00 F 101670.0 92127.0 0.9061375036884036\n",
            "2022-06-26 06:59:27.965043-06:00 SPY 2047094.0 2702777.0 1.3202994097974983\n",
            "2022-06-26 06:59:27.965043-06:00 GLD 68526.0 41980.0 0.6126141902343636\n",
            "2022-06-26 06:59:27.965043-06:00 QQQ 757143.0 1018886.0 1.34569823666071\n",
            "2022-06-26 06:59:27.965043-06:00 FDX 27172.0 33313.0 1.2260047107316354\n",
            "2022-06-26 06:59:27.965043-06:00 COST 12862.0 12981.0 1.0092520603327633\n",
            "2022-06-26 06:59:27.965043-06:00 PYPL 70688.0 61330.0 0.867615436849253\n",
            "2022-06-26 06:59:27.965043-06:00 SOXX 6160.0 2268.0 0.36818181818181817\n",
            "2022-06-26 06:59:27.965043-06:00 AMD 195243.0 101416.0 0.5194347556634553\n",
            "2022-06-26 06:59:27.965043-06:00 NVDA 163700.0 107713.0 0.6579902260232132\n",
            "2022-06-26 06:59:27.965043-06:00 INTC 76916.0 48633.0 0.6322871704196786\n",
            "2022-06-26 06:59:27.965043-06:00 LUV 12140.0 3477.0 0.28640856672158155\n",
            "2022-06-26 06:59:27.965043-06:00 DBC 2438.0 2793.0 1.145611156685808\n",
            "2022-06-26 06:59:27.965043-06:00 CAT 12537.0 10503.0 0.8377602297200287\n",
            "2022-06-26 06:59:27.965043-06:00 XLE 91595.0 107110.0 1.169386975271576\n",
            "2022-06-26 06:59:27.965043-06:00 XLF 68320.0 108728.0 1.5914519906323186\n",
            "2022-06-26 06:59:27.965043-06:00 AMZN 4048.0 4790.0 1.183300395256917\n",
            "2022-06-26 06:59:27.965043-06:00 AAPL 35358.0 17032.0 0.48170145370213246\n"
          ]
        },
        {
          "output_type": "display_data",
          "data": {
            "text/plain": [
              "<Figure size 1080x360 with 1 Axes>"
            ],
            "image/png": "[encoded data removed]"
          },
          "metadata": {
            "needs_background": "light"
          }
        }
      ],
      "source": [
        "import pandas as pd\n",
        "import numpy as np\n",
        "import yfinance as yf\n",
        "import datetime\n",
        "\n",
        "from matplotlib import pyplot as plt\n",
        "currentDatetime = datetime.datetime.now(mountain)\n",
        "\n",
        "def options_chain(symbol):\n",
        "    tk = yf.Ticker(symbol)\n",
        "    # Expiration dates\n",
        "    exps = tk.options\n",
        "    # Get options for each expiration\n",
        "    options = pd.DataFrame()\n",
        "    for e in exps:\n",
        "        opt = tk.option_chain(e)\n",
        "        opt = pd.DataFrame().append(opt.calls).append(opt.puts)\n",
        "        opt['expirationDate'] = e\n",
        "        options = options.append(opt, ignore_index=True)\n",
        "\n",
        "    options['expirationDate'] = pd.to_datetime(options['expirationDate']) \n",
        "    options['dte'] = (options['expirationDate'] - datetime.datetime.today()).dt.days / 365\n",
        "    # Boolean column if the option is a CALL\n",
        "    options['CALL'] = options['contractSymbol'].str[4:].apply(\n",
        "        lambda x: \"C\" in x)\n",
        "    options[['bid', 'ask', 'strike']] = options[['bid', 'ask', 'strike']].apply(pd.to_numeric)\n",
        "    options['mark'] = (options['bid'] + options['ask']) / 2 # Calculate the midpoint of the bid-ask\n",
        "    # Drop unnecessary and meaningless columns\n",
        "    options = options.drop(columns = ['contractSize', 'currency', 'change', 'percentChange', 'lastTradeDate', 'lastPrice'])\n",
        "    return options\n",
        "\n",
        "predictedVar_list = [\"VCR\",\n",
        "                     'DIA',\n",
        "                'MSFT',\n",
        "                \"GOOGL\",\n",
        "                'TSLA',\n",
        "                'ARKK',\n",
        "                'F',\n",
        "                'SPY',\n",
        "                'GLD', \n",
        "                'QQQ',\n",
        "                'FDX',\n",
        "                'COST',\n",
        "                'PYPL',\n",
        "                'SOXX',\n",
        "                'AMD', \n",
        "                'NVDA', \n",
        "                'INTC',\n",
        "                'LUV', \n",
        "                'DBC',\n",
        "                'CAT',\n",
        "                'XLE',\n",
        "                \"XLF\",\n",
        "                'AMZN',\n",
        "                'AAPL'\n",
        "                ]\n",
        "\n",
        "#predictedVar_list = ['MNRL' ]\n",
        "\n",
        "\n",
        "print('currentDatetime', 'predictedVar', 'callTotal', 'putTotal', 'put_call_ratio')\n",
        "optionTableSum = pd.DataFrame(columns=['currentDatetime', 'predictedVar', 'callTotal', 'putTotal','put_call_ratio'])\n",
        "for predictedVar in predictedVar_list:\n",
        "    optionTable=options_chain(predictedVar)\n",
        "    optionTable= optionTable.fillna(0)\n",
        "    #optionTable=optionTable[(optionTable['expirationDate'])] #.between(currentDatetime, (currentDatetime + datetime.timedelta(days = 15))))] \n",
        "    optionTable=optionTable[(optionTable['volume']>0) ] # | (optionTable['openInterest']>0)]\n",
        "    #optionTable=optionTable[(optionTable['openInterest']>0)]\n",
        "    optionTableCall = optionTable[optionTable['CALL']==True]\n",
        "    optionTablePut = optionTable[optionTable['CALL']==False]\n",
        "    callTotal = optionTableCall['volume'].sum()#+optionTableCall['openInterest'].sum()\n",
        "    putTotal = optionTablePut['volume'].sum()#+optionTablePut['openInterest'].sum()\n",
        "    put_call_ratio = putTotal/callTotal\n",
        "    print(currentDatetime, predictedVar, callTotal, putTotal,put_call_ratio)\n",
        "    optionTableSum = optionTableSum.append({'currentDatetime': currentDatetime,\n",
        "                                          'predictedVar': predictedVar,\n",
        "                                          'callTotal': callTotal,\n",
        "                                          'putTotal': putTotal,\n",
        "                                          'put_call_ratio': put_call_ratio}, ignore_index=True)\n",
        "\n",
        "optionTableSum = optionTableSum.sort_values('put_call_ratio')\n",
        "\n",
        "plt.figure(figsize=(15,5))\n",
        "plt.plot(optionTableSum['predictedVar'], optionTableSum['put_call_ratio'])\n",
        "plt.grid()\n",
        "plt.tight_layout()\n"
      ]
    },
    {
      "cell_type": "code",
      "execution_count": null,
      "metadata": {
        "id": "jFwim4TDV7ER"
      },
      "outputs": [],
      "source": [
        ""
      ]
    }
  ],
  "metadata": {
    "colab": {
      "collapsed_sections": [],
      "name": "RandomForestStockPricePrediction.ipynb",
      "provenance": [],
      "include_colab_link": true
    },
    "kernelspec": {
      "display_name": "Python 3",
      "language": "python",
      "name": "python3"
    },
    "language_info": {
      "codemirror_mode": {
        "name": "ipython",
        "version": 3
      },
      "file_extension": ".py",
      "mimetype": "text/x-python",
      "name": "python",
      "nbconvert_exporter": "python",
      "pygments_lexer": "ipython3",
      "version": "3.7.11"
    }
  },
  "nbformat": 4,
  "nbformat_minor": 0
}